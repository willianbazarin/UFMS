{
  "nbformat": 4,
  "nbformat_minor": 0,
  "metadata": {
    "colab": {
      "provenance": [],
      "authorship_tag": "ABX9TyNqGFPALjQVpr3/cX+GZILJ",
      "include_colab_link": true
    },
    "kernelspec": {
      "name": "python3",
      "display_name": "Python 3"
    },
    "language_info": {
      "name": "python"
    }
  },
  "cells": [
    {
      "cell_type": "markdown",
      "metadata": {
        "id": "view-in-github",
        "colab_type": "text"
      },
      "source": [
        "<a href=\"https://colab.research.google.com/github/willianbazarin/UFMS/blob/main/mega.ipynb\" target=\"_parent\"><img src=\"https://colab.research.google.com/assets/colab-badge.svg\" alt=\"Open In Colab\"/></a>"
      ]
    },
    {
      "cell_type": "code",
      "execution_count": 1,
      "metadata": {
        "colab": {
          "base_uri": "https://localhost:8080/"
        },
        "id": "YV1-f-u5IMn5",
        "outputId": "87375156-eef9-41f9-fe33-b42519379f7d"
      },
      "outputs": [
        {
          "output_type": "stream",
          "name": "stdout",
          "text": [
            "   bola1  bola2  bola3  bola4  bola5  bola6\n",
            "0      4      5     30     33     41     52\n",
            "1      9     37     39     41     43     49\n",
            "2     10     11     29     30     36     47\n",
            "3      1      5      6     27     42     59\n",
            "4      1      2      6     16     19     46\n",
            "Column names in the DataFrame: ['bola1', 'bola2', 'bola3', 'bola4', 'bola5', 'bola6']\n",
            "Os 6 números com maior probabilidade de sair na próxima sequência são:\n",
            "Número: 10, Frequência: 74\n",
            "Número: 53, Frequência: 73\n",
            "Número: 56, Frequência: 71\n",
            "Número: 4, Frequência: 68\n",
            "Número: 43, Frequência: 66\n",
            "Número: 23, Frequência: 66\n"
          ]
        }
      ],
      "source": [
        "import pandas as pd\n",
        "import numpy as np\n",
        "from sklearn.model_selection import train_test_split\n",
        "from sklearn.ensemble import RandomForestClassifier\n",
        "from collections import Counter\n",
        "\n",
        "# Update the URL to point to the raw CSV data\n",
        "url = 'https://raw.githubusercontent.com/willianbazarin/UFMS/main/Mega_1.csv'  # Corrected URL\n",
        "data = pd.read_csv(url, sep=';') # Added separator\n",
        "\n",
        "# Verifique a estrutura dos dados\n",
        "print(data.head())\n",
        "\n",
        "# Get the actual column names from the DataFrame\n",
        "column_names = data.columns.tolist()\n",
        "print(f\"Column names in the DataFrame: {column_names}\")\n",
        "\n",
        "# Use the actual column names to create numbers_df\n",
        "numbers_df = data[column_names[:6]]  # Select the first 6 columns, adjust if necessary\n",
        "\n",
        "\n",
        "# Criar um conjunto de dados de entrada e saída\n",
        "X = numbers_df.values  # Todas as colunas como entrada\n",
        "y = numbers_df.values  # Usar as mesmas colunas como saída\n",
        "\n",
        "# Dividir os dados em conjuntos de treino e teste\n",
        "X_train, X_test, y_train, y_test = train_test_split(X, y, test_size=0.2, random_state=42)\n",
        "\n",
        "# Treinar um modelo de aprendizado de máquina\n",
        "model = RandomForestClassifier(n_estimators=100, random_state=42)\n",
        "model.fit(X_train, y_train)\n",
        "\n",
        "# Fazer previsões\n",
        "predictions = model.predict(X_test)\n",
        "\n",
        "# Contar a frequência dos números previstos\n",
        "# Flatten the predictions and filter the numbers between 1 and 60\n",
        "predictions_flat = predictions.flatten()\n",
        "predictions_filtered = [num for num in predictions_flat if 1 <= num <= 60]\n",
        "\n",
        "# Contar a frequência dos números filtrados\n",
        "counter = Counter(predictions_filtered)\n",
        "most_common = counter.most_common(6)  # Pega os 6 números mais comuns\n",
        "\n",
        "# Exibir os resultados\n",
        "print(\"Os 6 números com maior probabilidade de sair na próxima sequência são:\")\n",
        "for number, frequency in most_common:\n",
        "    print(f\"Número: {number}, Frequência: {frequency}\")"
      ]
    }
  ]
}